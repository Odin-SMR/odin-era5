{
 "cells": [
  {
   "cell_type": "code",
   "execution_count": 1,
   "metadata": {},
   "outputs": [],
   "source": [
    "import boto3\n",
    "\n",
    "profile_name = \"odin-cdk\"\n",
    "session = boto3.Session(profile_name=profile_name)\n",
    "credentials = session.get_credentials()"
   ]
  },
  {
   "cell_type": "code",
   "execution_count": 2,
   "metadata": {},
   "outputs": [],
   "source": [
    "import xarray as xr\n",
    "\n",
    "ds = xr.open_zarr(\n",
    "    \"s3://odin-era5/2024/09/ea_pl_2024-09-14.zarr/\",\n",
    "    consolidated=True,\n",
    "    storage_options={\n",
    "        \"key\": credentials.access_key if credentials else None,\n",
    "        \"secret\": credentials.secret_key if credentials else None,\n",
    "    },\n",
    ")"
   ]
  },
  {
   "cell_type": "code",
   "execution_count": 3,
   "metadata": {},
   "outputs": [
    {
     "name": "stdout",
     "output_type": "stream",
     "text": [
      "<xarray.Dataset> Size: 274MB\n",
      "Dimensions:    (latitude: 241, level: 37, longitude: 480, time: 4)\n",
      "Coordinates:\n",
      "  * latitude   (latitude) float32 964B 90.0 89.25 88.5 ... -88.5 -89.25 -90.0\n",
      "  * level      (level) int32 148B 1 2 3 5 7 10 20 ... 875 900 925 950 975 1000\n",
      "  * longitude  (longitude) float32 2kB 0.0 0.75 1.5 2.25 ... 357.8 358.5 359.2\n",
      "  * time       (time) datetime64[ns] 32B 2024-09-14 ... 2024-09-14T18:00:00\n",
      "Data variables:\n",
      "    t          (time, level, latitude, longitude) float64 137MB ...\n",
      "    z          (time, level, latitude, longitude) float64 137MB ...\n",
      "Attributes:\n",
      "    Conventions:  CF-1.6\n",
      "    history:      2024-09-21 05:48:16 GMT by grib_to_netcdf-2.28.1: /opt/ecmw...\n"
     ]
    }
   ],
   "source": [
    "print(ds)"
   ]
  }
 ],
 "metadata": {
  "kernelspec": {
   "display_name": "odin-era5",
   "language": "python",
   "name": "python3"
  },
  "language_info": {
   "codemirror_mode": {
    "name": "ipython",
    "version": 3
   },
   "file_extension": ".py",
   "mimetype": "text/x-python",
   "name": "python",
   "nbconvert_exporter": "python",
   "pygments_lexer": "ipython3",
   "version": "3.12.3"
  }
 },
 "nbformat": 4,
 "nbformat_minor": 2
}
