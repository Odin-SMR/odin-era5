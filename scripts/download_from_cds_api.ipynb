{
 "cells": [
  {
   "cell_type": "code",
   "execution_count": null,
   "metadata": {},
   "outputs": [],
   "source": [
    "import cdsapi  # type: ignore\n",
    "\n",
    "dataset = \"reanalysis-era5-pressure-levels\"\n",
    "request = {\n",
    "    \"product_type\": [\"reanalysis\"],\n",
    "    \"variable\": [\"temperature\"],\n",
    "    \"time\": [\"18:00\"],\n",
    "    \"date\": \"2025-01-15\",\n",
    "    \"pressure_level\": [\"1000\"],\n",
    "    \"data_format\": \"netcdf\",\n",
    "    \"download_format\": \"unarchived\",\n",
    "}\n",
    "\n",
    "client = cdsapi.Client(delete=False, wait_until_complete=False)\n",
    "res = client.retrieve(dataset, request)\n",
    "res.reply"
   ]
  },
  {
   "cell_type": "code",
   "execution_count": null,
   "metadata": {},
   "outputs": [],
   "source": [
    "client1 = cdsapi.Client(delete=False, wait_until_complete=False)\n",
    "res1 = client1.client.get_remote(res.reply[\"request_id\"])  # type: ignore\n",
    "res1.reply"
   ]
  },
  {
   "cell_type": "code",
   "execution_count": null,
   "metadata": {},
   "outputs": [],
   "source": [
    "client2 = cdsapi.Client(delete=False, wait_until_complete=False)\n",
    "res2 = client2.client.get_remote(res.reply[\"request_id\"])  # type: ignore\n",
    "res2.download()"
   ]
  },
  {
   "cell_type": "code",
   "execution_count": null,
   "metadata": {},
   "outputs": [],
   "source": [
    "res2.delete()"
   ]
  },
  {
   "cell_type": "code",
   "execution_count": null,
   "metadata": {},
   "outputs": [],
   "source": []
  }
 ],
 "metadata": {
  "kernelspec": {
   "display_name": "odin-era5",
   "language": "python",
   "name": "python3"
  },
  "language_info": {
   "codemirror_mode": {
    "name": "ipython",
    "version": 3
   },
   "file_extension": ".py",
   "mimetype": "text/x-python",
   "name": "python",
   "nbconvert_exporter": "python",
   "pygments_lexer": "ipython3",
   "version": "3.12.3"
  }
 },
 "nbformat": 4,
 "nbformat_minor": 2
}
